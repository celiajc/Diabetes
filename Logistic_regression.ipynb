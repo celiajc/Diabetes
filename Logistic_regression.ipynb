{
 "cells": [
  {
   "cell_type": "markdown",
   "id": "5808d002",
   "metadata": {},
   "source": [
    "# Import"
   ]
  },
  {
   "cell_type": "code",
   "execution_count": null,
   "id": "593ec847",
   "metadata": {},
   "outputs": [],
   "source": [
    "import matplotlib.pyplot as plt\n",
    "import numpy as np\n",
    "\n",
    "import scipy as sp\n",
    "from sklearn import metrics\n",
    "import pandas\n",
    "import os\n"
   ]
  },
  {
   "cell_type": "code",
   "execution_count": null,
   "id": "44ecd9a5",
   "metadata": {},
   "outputs": [],
   "source": [
    "import math\n",
    "from plotnine import *\n",
    "from sklearn.linear_model import LogisticRegression\n",
    "from lmfit import Parameters, Parameter, report_fit, Minimizer\n",
    "from lmfit import minimize, fit_report,conf_interval, ci_report"
   ]
  },
  {
   "cell_type": "code",
   "execution_count": null,
   "id": "ed8cb4bc",
   "metadata": {},
   "outputs": [],
   "source": [
    "from Fitter import *"
   ]
  },
  {
   "cell_type": "code",
   "execution_count": null,
   "id": "262c4160",
   "metadata": {},
   "outputs": [],
   "source": [
    "from Vuong import *"
   ]
  },
  {
   "cell_type": "markdown",
   "id": "83b2531d",
   "metadata": {},
   "source": [
    "# Load and explore data"
   ]
  },
  {
   "cell_type": "markdown",
   "id": "4a27b2c9-2373-4bb5-af05-913bc2bd43d8",
   "metadata": {},
   "source": [
    "## Load"
   ]
  },
  {
   "cell_type": "code",
   "execution_count": null,
   "id": "844930c9-6df1-4af1-988e-00f7cc645423",
   "metadata": {},
   "outputs": [],
   "source": [
    "code_dir = os.getcwd()"
   ]
  },
  {
   "cell_type": "code",
   "execution_count": null,
   "id": "413c2a63-90a4-403f-8190-0637992fb6ef",
   "metadata": {},
   "outputs": [],
   "source": [
    "data_dir = os.path.split(code_dir)[0] + '\\\\Data\\\\'"
   ]
  },
  {
   "cell_type": "code",
   "execution_count": null,
   "id": "932d442d-163d-40f4-a9c9-233661e191cb",
   "metadata": {},
   "outputs": [],
   "source": [
    "source_file = data_dir + \"diabetes-dataset.csv\"\n",
    "diabetes = pandas.read_csv(source_file)"
   ]
  },
  {
   "cell_type": "code",
   "execution_count": null,
   "id": "663e2ca9",
   "metadata": {},
   "outputs": [],
   "source": [
    "diabetes = diabetes.reset_index()\n",
    "diabetes['PatNR'] = 'Pat' + diabetes['index'].astype(str) \n",
    "diabetes = diabetes.drop(['index'], axis=1)"
   ]
  },
  {
   "cell_type": "code",
   "execution_count": null,
   "id": "4c64a009",
   "metadata": {},
   "outputs": [],
   "source": [
    "diabetes.head()"
   ]
  },
  {
   "cell_type": "markdown",
   "id": "e324484a-0351-425e-8ce4-e7774853a9c3",
   "metadata": {},
   "source": [
    "## Explore"
   ]
  },
  {
   "cell_type": "code",
   "execution_count": null,
   "id": "1ba205e4",
   "metadata": {},
   "outputs": [],
   "source": [
    "%matplotlib inline\n",
    "\n",
    "p = (ggplot(diabetes)         # defining what data to use\n",
    " + aes(x='BMI', y='Outcome')    # defining what variable to use\n",
    "#  + geom_bar(size=20) # defining the type of plot to use\n",
    "+ geom_point()  \n",
    "+ theme_minimal()  \n",
    "\n",
    "\n",
    "+labs(x=\"BMI\", y = \"Diabetes\")\n",
    ")\n",
    "p"
   ]
  },
  {
   "cell_type": "code",
   "execution_count": null,
   "id": "a156f837",
   "metadata": {},
   "outputs": [],
   "source": [
    "p = (ggplot(diabetes)         # defining what data to use\n",
    " + aes(x='BloodPressure', y='Outcome')    # defining what variable to use\n",
    "#  + geom_bar(size=20) # defining the type of plot to use\n",
    "+ geom_point()  \n",
    "+ theme_minimal()\n",
    "+ labs(x=\"Blood Pressure\", y = \"Diabetes\"))\n",
    "p"
   ]
  },
  {
   "cell_type": "markdown",
   "id": "7589da08",
   "metadata": {},
   "source": [
    "# Fits"
   ]
  },
  {
   "cell_type": "markdown",
   "id": "f030a001",
   "metadata": {},
   "source": [
    "## lmfit"
   ]
  },
  {
   "cell_type": "markdown",
   "id": "5826a3fb",
   "metadata": {},
   "source": [
    "### Fit I - NTCP with negative log likelihood"
   ]
  },
  {
   "cell_type": "markdown",
   "id": "59d50273",
   "metadata": {},
   "source": [
    "#### Fit"
   ]
  },
  {
   "cell_type": "code",
   "execution_count": null,
   "id": "5170bb77",
   "metadata": {},
   "outputs": [],
   "source": [
    "# print(\"start: now =\", datetime.now().strftime(\"%Y%m%d-%H:%M\"))\n",
    "\n",
    "# initializations --------------------------------------------------------\n",
    "# parameters -----------------------------------------------------------\n",
    "\n",
    "method_global = \"ampgo\"\n",
    "method_local = \"L-BFGS-B\"\n",
    "\n",
    "\n",
    "model_df1 = pandas.DataFrame()\n",
    "\n",
    "for clinical_parameter in ['BloodPressure', 'BMI']:\n",
    "    # data ------------------------------------------\n",
    "    diabetes_df = diabetes[['Outcome', clinical_parameter]]\n",
    "    diabetes_df = diabetes_df.rename(columns={'Outcome': 'outcomes', clinical_parameter: 'values'})\n",
    "\n",
    "    # fit ------------------------------------------\n",
    "    params_population = Parameters()\n",
    "    params_population.add('TD50',   value = 150, min = 0.0001, vary=True)  # min=0 Prevent k from becoming negative\n",
    "    params_population.add('m',  value = 0.1, min = 0.0001, vary=True)\n",
    "\n",
    "\n",
    "    fitter=Fit(minimizeNLL, params_population, diabetes_df, method_global, method_local)\n",
    "    result_parameters1 = fitter.fit_data()\n",
    "   \n",
    "    # save ------------------------------------------\n",
    "    for param in list(result_parameters1.params):\n",
    "        val = result_parameters1.params[param].value\n",
    "        dict_param = {'clinical_parameter': clinical_parameter,\n",
    "                      'parameter': param,\n",
    "                      'optimized_value': val,\n",
    "                      'AIC': result_parameters1.aic}\n",
    "        model_df1 = pd.concat([model_df1,pd.DataFrame([dict_param])], ignore_index=True)\n"
   ]
  },
  {
   "cell_type": "code",
   "execution_count": null,
   "id": "8732ddde",
   "metadata": {},
   "outputs": [],
   "source": [
    "model_df1"
   ]
  },
  {
   "cell_type": "code",
   "execution_count": null,
   "id": "82424160",
   "metadata": {},
   "outputs": [],
   "source": []
  },
  {
   "cell_type": "markdown",
   "id": "c6d5f6f6",
   "metadata": {},
   "source": [
    "#### Plot"
   ]
  },
  {
   "cell_type": "code",
   "execution_count": null,
   "id": "a757ad50",
   "metadata": {},
   "outputs": [],
   "source": [
    "diabetes_df_plot = diabetes[['PatNR','Outcome', 'BloodPressure', 'BMI']]"
   ]
  },
  {
   "cell_type": "code",
   "execution_count": null,
   "id": "ef8e2572",
   "metadata": {},
   "outputs": [],
   "source": [
    "TD50_BP = model_df1.loc[(model_df1['clinical_parameter'] == 'BloodPressure') & (model_df1['parameter'] == 'TD50') ].iloc[0]['optimized_value']\n",
    "m_BP = model_df1.loc[(model_df1['clinical_parameter'] == 'BloodPressure') & (model_df1['parameter'] == 'm') ].iloc[0]['optimized_value']\n",
    "\n",
    "\n",
    "TD50_BMI = model_df1.loc[(model_df1['clinical_parameter'] == 'BMI') & (model_df1['parameter'] == 'TD50') ].iloc[0]['optimized_value']\n",
    "m_BMI = model_df1.loc[(model_df1['clinical_parameter'] == 'BMI') & (model_df1['parameter'] == 'm') ].iloc[0]['optimized_value']"
   ]
  },
  {
   "cell_type": "code",
   "execution_count": null,
   "id": "48425dd6",
   "metadata": {},
   "outputs": [],
   "source": [
    "diabetes_df_plot['Probability_BP'] =  diabetes_df_plot.apply(lambda row: CalcNTCP(row['BloodPressure'],TD50_BP,m_BP),axis=1)\n",
    "diabetes_df_plot['Probability_BMI'] =  diabetes_df_plot.apply(lambda row: CalcNTCP(row['BMI'],TD50_BMI,m_BMI),axis=1)"
   ]
  },
  {
   "cell_type": "code",
   "execution_count": null,
   "id": "02eb8c74",
   "metadata": {},
   "outputs": [],
   "source": [
    "diabetes_df_plot.head()"
   ]
  },
  {
   "cell_type": "code",
   "execution_count": null,
   "id": "538551f5",
   "metadata": {},
   "outputs": [],
   "source": [
    "%matplotlib inline\n",
    "\n",
    "plot_models1a = (ggplot(diabetes_df_plot)   \n",
    " + aes(x='BMI')    \n",
    "+ geom_point(aes(y='Probability_BMI'), colour = 'red')\n",
    "+ geom_point(aes(y='Outcome'), alpha = 0.05)\n",
    "+ theme_minimal() \n",
    "+labs(x=\"BMI\", y = \"Probability of Diabetes\")\n",
    ")\n",
    "plot_models1a"
   ]
  },
  {
   "cell_type": "code",
   "execution_count": null,
   "id": "f15d4606",
   "metadata": {},
   "outputs": [],
   "source": [
    "%matplotlib inline\n",
    "\n",
    "plot_models1b = (ggplot(diabetes_df_plot)   \n",
    " + aes(x='BloodPressure')    \n",
    "+ geom_point(aes(y='Probability_BP'), colour = 'red')\n",
    "+ geom_point(aes(y='Outcome'), alpha = 0.05)\n",
    "+ theme_minimal() \n",
    "+labs(x=\"Blood Pressure\", y = \"Probability of Diabetes\")\n",
    ")\n",
    "plot_models1b"
   ]
  },
  {
   "cell_type": "markdown",
   "id": "06a4818c",
   "metadata": {},
   "source": [
    "#### Test significance"
   ]
  },
  {
   "cell_type": "code",
   "execution_count": null,
   "id": "81078bbc",
   "metadata": {},
   "outputs": [],
   "source": [
    "diabetes_df_plot.head()"
   ]
  },
  {
   "cell_type": "code",
   "execution_count": null,
   "id": "6bcb7716",
   "metadata": {},
   "outputs": [],
   "source": [
    "BloodPressuredf = diabetes_df_plot[['PatNR','Outcome','BloodPressure', 'Probability_BP']]\n",
    "BloodPressuredf.rename(columns={'Outcome': 'y', 'Probability_BP': 'y_pred'}, inplace=True)"
   ]
  },
  {
   "cell_type": "code",
   "execution_count": null,
   "id": "17a123a6",
   "metadata": {},
   "outputs": [],
   "source": [
    "BMIdf = diabetes_df_plot[['PatNR','Outcome','BMI', 'Probability_BMI']]\n",
    "BMIdf.rename(columns={'Outcome': 'y', 'Probability_BMI': 'y_pred'}, inplace=True)"
   ]
  },
  {
   "cell_type": "code",
   "execution_count": null,
   "id": "46469f69",
   "metadata": {},
   "outputs": [],
   "source": [
    "vuong(BloodPressuredf, BMIdf, dof1 = 2, dof2 = 2)"
   ]
  },
  {
   "cell_type": "markdown",
   "id": "ef357f63",
   "metadata": {},
   "source": [
    "### Fit II - logistic regression with negative log likelihood"
   ]
  },
  {
   "cell_type": "markdown",
   "id": "cccd5069",
   "metadata": {},
   "source": [
    "#### Fit"
   ]
  },
  {
   "cell_type": "code",
   "execution_count": null,
   "id": "47e51e86",
   "metadata": {},
   "outputs": [],
   "source": [
    "# print(\"start: now =\", datetime.now().strftime(\"%Y%m%d-%H:%M\"))\n",
    "\n",
    "# initializations --------------------------------------------------------\n",
    "# parameters -----------------------------------------------------------\n",
    "\n",
    "\n",
    "\n",
    "method_global = \"ampgo\"\n",
    "method_local = \"L-BFGS-B\"\n",
    "model_df2= pandas.DataFrame()\n",
    "\n",
    "# patients ------------------------------------------\n",
    "for clinical_parameter in ['BloodPressure', 'BMI']:\n",
    "    # data ------------------------------------------\n",
    "    diabetes_df = diabetes[['Outcome', clinical_parameter]]\n",
    "    diabetes_df = diabetes_df.rename(columns={'Outcome': 'outcomes', clinical_parameter: 'values'})\n",
    "\n",
    "    # fit ------------------------------------------\n",
    "    params_population = Parameters()\n",
    "\n",
    "    params_population.add('b0',   value = -5,  vary=True)  # min=0 Prevent k from becoming negative\n",
    "    params_population.add('b1',  value = 0.03,  vary=True)\n",
    "\n",
    "\n",
    "    fitter=Fit(logistic_regression_NLL, params_population, diabetes_df, method_global, method_local)\n",
    "    result_parameters2 = fitter.fit_data()\n",
    "    # save ------------------------------------------\n",
    "    for param in list(result_parameters2.params):\n",
    "        val = result_parameters2.params[param].value\n",
    "        dict_param = {'clinical_parameter': clinical_parameter,\n",
    "                      'parameter': param,\n",
    "                      'optimized_value': val,\n",
    "                      'AIC': result_parameters2.aic}\n",
    "        \n",
    "        model_df2 = pd.concat([model_df2,pd.DataFrame([dict_param])], ignore_index=True)\n"
   ]
  },
  {
   "cell_type": "code",
   "execution_count": null,
   "id": "8788a4ef",
   "metadata": {},
   "outputs": [],
   "source": [
    "model_df2"
   ]
  },
  {
   "cell_type": "markdown",
   "id": "743e3bd5",
   "metadata": {},
   "source": [
    "#### Plot"
   ]
  },
  {
   "cell_type": "code",
   "execution_count": null,
   "id": "9856c8e8",
   "metadata": {},
   "outputs": [],
   "source": [
    "diabetes_df_plot = diabetes[['Outcome', 'BloodPressure', 'BMI']]"
   ]
  },
  {
   "cell_type": "code",
   "execution_count": null,
   "id": "6f1b61f0",
   "metadata": {},
   "outputs": [],
   "source": [
    "b0_BP = model_df2.loc[(model_df2['clinical_parameter'] == 'BloodPressure') & (model_df2['parameter'] == 'b0') ].iloc[0]['optimized_value']\n",
    "b1_BP = model_df2.loc[(model_df2['clinical_parameter'] == 'BloodPressure') & (model_df2['parameter'] == 'b1') ].iloc[0]['optimized_value']\n",
    "\n",
    "\n",
    "b0_BMI = model_df2.loc[(model_df2['clinical_parameter'] == 'BMI') & (model_df2['parameter'] == 'b0') ].iloc[0]['optimized_value']\n",
    "b1_BMI = model_df2.loc[(model_df2['clinical_parameter'] == 'BMI') & (model_df2['parameter'] == 'b1') ].iloc[0]['optimized_value']"
   ]
  },
  {
   "cell_type": "code",
   "execution_count": null,
   "id": "c3695785",
   "metadata": {},
   "outputs": [],
   "source": [
    "diabetes_df_plot['Probability_BP'] =  diabetes_df_plot.apply(lambda row: logistic_regression(row['BloodPressure'], b0_BP, b1_BP), axis=1)\n",
    "diabetes_df_plot['Probability_BMI'] =  diabetes_df_plot.apply(lambda row: logistic_regression(row['BMI'], b0_BMI, b1_BMI),axis=1)"
   ]
  },
  {
   "cell_type": "code",
   "execution_count": null,
   "id": "70130a60",
   "metadata": {},
   "outputs": [],
   "source": [
    "diabetes_df_plot.head()"
   ]
  },
  {
   "cell_type": "code",
   "execution_count": null,
   "id": "0e1e7093",
   "metadata": {},
   "outputs": [],
   "source": [
    "%matplotlib inline\n",
    "\n",
    "plot_models2a = (ggplot(diabetes_df_plot)   \n",
    " + aes(x='BloodPressure')    \n",
    "+ geom_point(aes(y='Probability_BP'), colour = 'red')\n",
    "+ geom_point(aes(y='Outcome'), alpha = 0.05)\n",
    "+ theme_minimal() \n",
    "+labs(x=\"Blood Pressure\", y = \"Probability of Diabetes\")\n",
    ")\n",
    "plot_models2a"
   ]
  },
  {
   "cell_type": "code",
   "execution_count": null,
   "id": "7cb9898f",
   "metadata": {},
   "outputs": [],
   "source": [
    "%matplotlib inline\n",
    "\n",
    "plot_models2b = (ggplot(diabetes_df_plot)   \n",
    " + aes(x='BMI')    \n",
    "+ geom_point(aes(y='Probability_BMI'), colour = 'red')\n",
    "+ geom_point(aes(y='Outcome'), alpha = 0.05)\n",
    "+ theme_minimal() \n",
    "+labs(x=\"BMI\", y = \"Probability of Diabetes\")\n",
    ")\n",
    "plot_models2b"
   ]
  },
  {
   "cell_type": "markdown",
   "id": "c79eefa5",
   "metadata": {},
   "source": [
    "### Fit III logistic regression - with least squares"
   ]
  },
  {
   "cell_type": "markdown",
   "id": "7aadce01",
   "metadata": {},
   "source": [
    "#### Fit"
   ]
  },
  {
   "cell_type": "code",
   "execution_count": null,
   "id": "d6547211",
   "metadata": {},
   "outputs": [],
   "source": [
    "# print(\"start: now =\", datetime.now().strftime(\"%Y%m%d-%H:%M\"))\n",
    "\n",
    "# initializations --------------------------------------------------------\n",
    "# parameters -----------------------------------------------------------\n",
    "\n",
    "method_global = \"leastsq\"\n",
    "method_local = None\n",
    "\n",
    "model_df3 = pandas.DataFrame()\n",
    "for clinical_parameter in ['BloodPressure', 'BMI']:\n",
    "    # data ------------------------------------------\n",
    "    diabetes_df = diabetes[['Outcome', clinical_parameter]]\n",
    "    diabetes_df = diabetes_df.rename(columns={'Outcome': 'outcomes', clinical_parameter: 'values'})\n",
    "\n",
    "    # fit ------------------------------------------\n",
    "    params_population = Parameters()\n",
    "\n",
    "\n",
    "    params_population.add('b0',   value = 1,  vary=True)  # min=0 Prevent k from becoming negative\n",
    "    params_population.add('b1',  value = 0,  vary=True)\n",
    "\n",
    "\n",
    "    fitter=Fit(logistic_regression_residuals, params_population, diabetes_df, method_global, method_local)\n",
    "    result_parameters3 = fitter.fit_data()\n",
    "    # save ------------------------------------------\n",
    "    for param in list(result_parameters3.params):\n",
    "        val = result_parameters3.params[param].value\n",
    "        dict_param = {'clinical_parameter': clinical_parameter,\n",
    "                      'parameter': param,\n",
    "                      'optimized_value': val,\n",
    "                      'AIC': result_parameters3.aic}\n",
    "        \n",
    "        model_df3 = pd.concat([model_df3,pd.DataFrame([dict_param])], ignore_index=True)"
   ]
  },
  {
   "cell_type": "code",
   "execution_count": null,
   "id": "fa11eb6d",
   "metadata": {},
   "outputs": [],
   "source": [
    "model_df3"
   ]
  },
  {
   "cell_type": "markdown",
   "id": "cea4aaaf",
   "metadata": {},
   "source": [
    "#### plot"
   ]
  },
  {
   "cell_type": "code",
   "execution_count": null,
   "id": "c75b52a3",
   "metadata": {},
   "outputs": [],
   "source": [
    "diabetes_df_plot = diabetes[['Outcome', 'BloodPressure', 'BMI']]"
   ]
  },
  {
   "cell_type": "code",
   "execution_count": null,
   "id": "70e53f03",
   "metadata": {},
   "outputs": [],
   "source": [
    "b0_BP = model_df3.loc[(model_df3['clinical_parameter'] == 'BloodPressure') & (model_df3['parameter'] == 'b0') ].iloc[0]['optimized_value']\n",
    "b1_BP = model_df3.loc[(model_df3['clinical_parameter'] == 'BloodPressure') & (model_df3['parameter'] == 'b1') ].iloc[0]['optimized_value']\n",
    "\n",
    "\n",
    "b0_BMI = model_df3.loc[(model_df3['clinical_parameter'] == 'BMI') & (model_df3['parameter'] == 'b0') ].iloc[0]['optimized_value']\n",
    "b1_BMI = model_df3.loc[(model_df3['clinical_parameter'] == 'BMI') & (model_df3['parameter'] == 'b1') ].iloc[0]['optimized_value']"
   ]
  },
  {
   "cell_type": "code",
   "execution_count": null,
   "id": "f42640ef",
   "metadata": {},
   "outputs": [],
   "source": [
    "diabetes_df_plot['Probability_BP'] =  diabetes_df_plot.apply(lambda row: logistic_regression(row['BloodPressure'], b0_BP, b1_BP), axis=1)\n",
    "diabetes_df_plot['Probability_BMI'] =  diabetes_df_plot.apply(lambda row: logistic_regression(row['BMI'], b0_BMI, b1_BMI),axis=1)"
   ]
  },
  {
   "cell_type": "code",
   "execution_count": null,
   "id": "3394c0cc",
   "metadata": {},
   "outputs": [],
   "source": [
    "diabetes_df_plot.head()"
   ]
  },
  {
   "cell_type": "code",
   "execution_count": null,
   "id": "f4ca340e",
   "metadata": {},
   "outputs": [],
   "source": [
    "%matplotlib inline\n",
    "\n",
    "plot_models3a = (ggplot(diabetes_df_plot)   \n",
    " + aes(x='BloodPressure')    \n",
    "+ geom_point(aes(y='Probability_BP'), colour = 'red')\n",
    "+ geom_point(aes(y='Outcome'), alpha = 0.05)\n",
    "+ theme_minimal() \n",
    "+labs(x=\"Blood Pressure\", y = \"Probability of Diabetes\")\n",
    ")\n",
    "plot_models3a"
   ]
  },
  {
   "cell_type": "code",
   "execution_count": null,
   "id": "38c34400",
   "metadata": {},
   "outputs": [],
   "source": [
    "%matplotlib inline\n",
    "\n",
    "plot_models3b = (ggplot(diabetes_df_plot)   \n",
    " + aes(x='BMI')    \n",
    "+ geom_point(aes(y='Probability_BMI'), colour = 'red')\n",
    "+ geom_point(aes(y='Outcome'), alpha = 0.05)\n",
    "+ theme_minimal() \n",
    "+labs(x=\"BMI\", y = \"Probability of Diabetes\")\n",
    ")\n",
    "plot_models3b"
   ]
  },
  {
   "cell_type": "markdown",
   "id": "6b80bb29",
   "metadata": {},
   "source": [
    "## sckitlearn"
   ]
  },
  {
   "cell_type": "markdown",
   "id": "1b1628b1",
   "metadata": {},
   "source": [
    "### Fit"
   ]
  },
  {
   "cell_type": "code",
   "execution_count": null,
   "id": "fde55bf9",
   "metadata": {},
   "outputs": [],
   "source": [
    "feature_cols =  ['BloodPressure', 'BMI']\n",
    "\n",
    "model_df4 = pandas.DataFrame()\n",
    "for feature in feature_cols:\n",
    "    X = diabetes.loc[:, [feature]]\n",
    "    y = diabetes.Outcome\n",
    "    \n",
    "    model = LogisticRegression(solver ='lbfgs',max_iter=1000)\n",
    "    model.fit(X, y)\n",
    "    b1 = model.coef_[0,0]\n",
    "    b0 = model.intercept_[0]\n",
    "    \n",
    "    \n",
    "    # save ------------------------------------------\n",
    "    for p in ['b0','b1']:\n",
    "        if p=='b0': val=b0\n",
    "        if p=='b1': val=b1\n",
    "        dict_param = {'clinical_parameter': feature,\n",
    "                      'parameter': p,\n",
    "                      'optimized_value': val,\n",
    "    #                   'AIC': result_parameters3.aic\n",
    "                     }\n",
    "        \n",
    "        model_df4 = pd.concat([model_df4,pd.DataFrame([dict_param])], ignore_index=True)"
   ]
  },
  {
   "cell_type": "code",
   "execution_count": null,
   "id": "ba9d5595",
   "metadata": {},
   "outputs": [],
   "source": [
    "model_df4"
   ]
  },
  {
   "cell_type": "markdown",
   "id": "20730cad",
   "metadata": {},
   "source": [
    "### Plot"
   ]
  },
  {
   "cell_type": "code",
   "execution_count": null,
   "id": "7ee9de49",
   "metadata": {},
   "outputs": [],
   "source": [
    "diabetes_df_plot = diabetes[['Outcome', 'BloodPressure', 'BMI']]"
   ]
  },
  {
   "cell_type": "code",
   "execution_count": null,
   "id": "6f80e40f",
   "metadata": {},
   "outputs": [],
   "source": [
    "b0_BP = model_df4.loc[(model_df4['clinical_parameter'] == 'BloodPressure') & (model_df4['parameter'] == 'b0') ].iloc[0]['optimized_value']\n",
    "b1_BP = model_df4.loc[(model_df2['clinical_parameter'] == 'BloodPressure') & (model_df4['parameter'] == 'b1') ].iloc[0]['optimized_value']\n",
    "\n",
    "\n",
    "b0_BMI = model_df4.loc[(model_df4['clinical_parameter'] == 'BMI') & (model_df4['parameter'] == 'b0') ].iloc[0]['optimized_value']\n",
    "b1_BMI = model_df4.loc[(model_df4['clinical_parameter'] == 'BMI') & (model_df4['parameter'] == 'b1') ].iloc[0]['optimized_value']"
   ]
  },
  {
   "cell_type": "code",
   "execution_count": null,
   "id": "2fc12a2c",
   "metadata": {},
   "outputs": [],
   "source": [
    "diabetes_df_plot['Probability_BP'] =  diabetes_df_plot.apply(lambda row: logistic_regression(row['BloodPressure'], b0_BP, b1_BP), axis=1)\n",
    "diabetes_df_plot['Probability_BMI'] =  diabetes_df_plot.apply(lambda row: logistic_regression(row['BMI'], b0_BMI, b1_BMI),axis=1)"
   ]
  },
  {
   "cell_type": "code",
   "execution_count": null,
   "id": "38beab76",
   "metadata": {},
   "outputs": [],
   "source": [
    "diabetes_df_plot.head()"
   ]
  },
  {
   "cell_type": "code",
   "execution_count": null,
   "id": "baee23e9",
   "metadata": {},
   "outputs": [],
   "source": [
    "%matplotlib inline\n",
    "\n",
    "plot_models2a = (ggplot(diabetes_df_plot)   \n",
    " + aes(x='BloodPressure')    \n",
    "+ geom_point(aes(y='Probability_BP'), colour = 'red')\n",
    "+ geom_point(aes(y='Outcome'), alpha = 0.05)\n",
    "+ theme_minimal() \n",
    "+labs(x=\"Blood Pressure\", y = \"Probability of Diabetes\")\n",
    ")\n",
    "plot_models2a"
   ]
  },
  {
   "cell_type": "code",
   "execution_count": null,
   "id": "58726e05",
   "metadata": {},
   "outputs": [],
   "source": [
    "%matplotlib inline\n",
    "\n",
    "plot_models2b = (ggplot(diabetes_df_plot)   \n",
    " + aes(x='BMI')    \n",
    "+ geom_point(aes(y='Probability_BMI'), colour = 'red')\n",
    "+ geom_point(aes(y='Outcome'), alpha = 0.05)\n",
    "+ theme_minimal() \n",
    "+labs(x=\"BMI\", y = \"Probability of Diabetes\")\n",
    ")\n",
    "plot_models2b"
   ]
  },
  {
   "cell_type": "code",
   "execution_count": null,
   "id": "b4f321e5",
   "metadata": {},
   "outputs": [],
   "source": []
  }
 ],
 "metadata": {
  "kernelspec": {
   "display_name": "Python 3 (ipykernel)",
   "language": "python",
   "name": "python3"
  },
  "language_info": {
   "codemirror_mode": {
    "name": "ipython",
    "version": 3
   },
   "file_extension": ".py",
   "mimetype": "text/x-python",
   "name": "python",
   "nbconvert_exporter": "python",
   "pygments_lexer": "ipython3",
   "version": "3.9.10"
  }
 },
 "nbformat": 4,
 "nbformat_minor": 5
}
